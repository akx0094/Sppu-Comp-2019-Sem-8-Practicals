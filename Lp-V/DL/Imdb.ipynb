{
 "cells": [
  {
   "cell_type": "code",
   "execution_count": 23,
   "id": "8f246175-ccf3-45a3-a229-df288e75c0c8",
   "metadata": {},
   "outputs": [],
   "source": [
    "import pandas as pd\n",
    "import numpy as np\n",
    "import tensorflow as tf\n",
    "from tensorflow.keras import layers, models\n",
    "from tensorflow.keras.preprocessing.text import Tokenizer\n",
    "from tensorflow.keras.preprocessing.sequence import pad_sequences\n",
    "from sklearn.model_selection import train_test_split"
   ]
  },
  {
   "cell_type": "code",
   "execution_count": 24,
   "id": "088596c7-87c3-4d9b-8938-9b29976ac1c9",
   "metadata": {},
   "outputs": [
    {
     "data": {
      "text/html": [
       "<div>\n",
       "<style scoped>\n",
       "    .dataframe tbody tr th:only-of-type {\n",
       "        vertical-align: middle;\n",
       "    }\n",
       "\n",
       "    .dataframe tbody tr th {\n",
       "        vertical-align: top;\n",
       "    }\n",
       "\n",
       "    .dataframe thead th {\n",
       "        text-align: right;\n",
       "    }\n",
       "</style>\n",
       "<table border=\"1\" class=\"dataframe\">\n",
       "  <thead>\n",
       "    <tr style=\"text-align: right;\">\n",
       "      <th></th>\n",
       "      <th>review</th>\n",
       "      <th>sentiment</th>\n",
       "    </tr>\n",
       "  </thead>\n",
       "  <tbody>\n",
       "    <tr>\n",
       "      <th>0</th>\n",
       "      <td>One of the other reviewers has mentioned that ...</td>\n",
       "      <td>positive</td>\n",
       "    </tr>\n",
       "    <tr>\n",
       "      <th>1</th>\n",
       "      <td>A wonderful little production. &lt;br /&gt;&lt;br /&gt;The...</td>\n",
       "      <td>positive</td>\n",
       "    </tr>\n",
       "    <tr>\n",
       "      <th>2</th>\n",
       "      <td>I thought this was a wonderful way to spend ti...</td>\n",
       "      <td>positive</td>\n",
       "    </tr>\n",
       "    <tr>\n",
       "      <th>3</th>\n",
       "      <td>Basically there's a family where a little boy ...</td>\n",
       "      <td>negative</td>\n",
       "    </tr>\n",
       "    <tr>\n",
       "      <th>4</th>\n",
       "      <td>Petter Mattei's \"Love in the Time of Money\" is...</td>\n",
       "      <td>positive</td>\n",
       "    </tr>\n",
       "    <tr>\n",
       "      <th>5</th>\n",
       "      <td>Probably my all-time favorite movie, a story o...</td>\n",
       "      <td>positive</td>\n",
       "    </tr>\n",
       "    <tr>\n",
       "      <th>6</th>\n",
       "      <td>I sure would like to see a resurrection of a u...</td>\n",
       "      <td>positive</td>\n",
       "    </tr>\n",
       "    <tr>\n",
       "      <th>7</th>\n",
       "      <td>This show was an amazing, fresh &amp; innovative i...</td>\n",
       "      <td>negative</td>\n",
       "    </tr>\n",
       "    <tr>\n",
       "      <th>8</th>\n",
       "      <td>Encouraged by the positive comments about this...</td>\n",
       "      <td>negative</td>\n",
       "    </tr>\n",
       "    <tr>\n",
       "      <th>9</th>\n",
       "      <td>If you like original gut wrenching laughter yo...</td>\n",
       "      <td>positive</td>\n",
       "    </tr>\n",
       "  </tbody>\n",
       "</table>\n",
       "</div>"
      ],
      "text/plain": [
       "                                              review sentiment\n",
       "0  One of the other reviewers has mentioned that ...  positive\n",
       "1  A wonderful little production. <br /><br />The...  positive\n",
       "2  I thought this was a wonderful way to spend ti...  positive\n",
       "3  Basically there's a family where a little boy ...  negative\n",
       "4  Petter Mattei's \"Love in the Time of Money\" is...  positive\n",
       "5  Probably my all-time favorite movie, a story o...  positive\n",
       "6  I sure would like to see a resurrection of a u...  positive\n",
       "7  This show was an amazing, fresh & innovative i...  negative\n",
       "8  Encouraged by the positive comments about this...  negative\n",
       "9  If you like original gut wrenching laughter yo...  positive"
      ]
     },
     "execution_count": 24,
     "metadata": {},
     "output_type": "execute_result"
    }
   ],
   "source": [
    "df=pd.read_csv(\"D:/IMDB Dataset.csv\")\n",
    "df.head(10)"
   ]
  },
  {
   "cell_type": "code",
   "execution_count": 25,
   "id": "23b5529c-860f-4b0a-8c85-81edb45e617e",
   "metadata": {},
   "outputs": [],
   "source": [
    "# Define parameters\n",
    "num_words = 10000  # Number of words to consider\n",
    "maxlen = 200  # Maximum length of input sequences\n",
    "\n",
    "# Initialize the tokenizer\n",
    "tokenizer = Tokenizer(num_words=num_words)\n",
    "tokenizer.fit_on_texts(df['review'])  # Fit on the text column\n",
    "\n",
    "# Convert text to sequences of integers\n",
    "X = tokenizer.texts_to_sequences(df['review'])\n",
    "\n",
    "# Pad sequences to ensure consistent input length\n",
    "X_padded = pad_sequences(X, maxlen=maxlen)\n",
    "\n",
    "# Convert labels to numpy array\n",
    "y = np.array(df['sentiment'].apply(lambda x: 1 if x == 'positive' else 0))\n"
   ]
  },
  {
   "cell_type": "code",
   "execution_count": 26,
   "id": "d002ad81-c364-475e-b04a-e4d955cb296d",
   "metadata": {},
   "outputs": [],
   "source": [
    "X_train, X_test, y_train, y_test = train_test_split(X_padded, y, test_size=0.2, random_state=42)"
   ]
  },
  {
   "cell_type": "code",
   "execution_count": 27,
   "id": "861b995a-2c83-40f6-9440-fed448d06c87",
   "metadata": {},
   "outputs": [],
   "source": [
    "model = models.Sequential([\n",
    "    layers.Embedding(input_dim=num_words, output_dim=128, input_length=maxlen),  # Embedding layer\n",
    "    layers.GlobalAveragePooling1D(),  # Pooling to reduce the output size\n",
    "    layers.Dense(64, activation='relu'),  # Hidden layer\n",
    "    layers.Dense(1, activation='sigmoid')  # Output layer (binary classification)\n",
    "])"
   ]
  },
  {
   "cell_type": "code",
   "execution_count": 28,
   "id": "281ecb53-d811-4b52-8e26-f1e316948a06",
   "metadata": {},
   "outputs": [],
   "source": [
    "# Compile the model\n",
    "model.compile(optimizer='adam', loss='binary_crossentropy', metrics=['accuracy'])"
   ]
  },
  {
   "cell_type": "code",
   "execution_count": null,
   "id": "d11789eb-d55a-4be1-b11b-76b33e400f87",
   "metadata": {},
   "outputs": [
    {
     "name": "stdout",
     "output_type": "stream",
     "text": [
      "Epoch 1/10\n",
      "625/625 [==============================] - 12s 19ms/step - loss: 0.3756 - accuracy: 0.8380 - val_loss: 0.2640 - val_accuracy: 0.8905\n",
      "Epoch 2/10\n",
      "625/625 [==============================] - 11s 18ms/step - loss: 0.2254 - accuracy: 0.9116 - val_loss: 0.2620 - val_accuracy: 0.8906\n",
      "Epoch 3/10\n",
      "625/625 [==============================] - 11s 17ms/step - loss: 0.1913 - accuracy: 0.9260 - val_loss: 0.2785 - val_accuracy: 0.8864\n",
      "Epoch 4/10\n",
      "625/625 [==============================] - 11s 18ms/step - loss: 0.1718 - accuracy: 0.9346 - val_loss: 0.2957 - val_accuracy: 0.8801\n",
      "Epoch 5/10\n",
      "625/625 [==============================] - 12s 19ms/step - loss: 0.1571 - accuracy: 0.9417 - val_loss: 0.3119 - val_accuracy: 0.8764\n",
      "Epoch 6/10\n",
      "625/625 [==============================] - 11s 18ms/step - loss: 0.1447 - accuracy: 0.9474 - val_loss: 0.3324 - val_accuracy: 0.8733\n",
      "Epoch 7/10\n",
      "625/625 [==============================] - 11s 18ms/step - loss: 0.1342 - accuracy: 0.9524 - val_loss: 0.3752 - val_accuracy: 0.8665\n",
      "Epoch 8/10\n",
      "625/625 [==============================] - 11s 18ms/step - loss: 0.1245 - accuracy: 0.9551 - val_loss: 0.3915 - val_accuracy: 0.8705\n",
      "Epoch 9/10\n",
      "340/625 [===============>..............] - ETA: 5s - loss: 0.1027 - accuracy: 0.9652"
     ]
    }
   ],
   "source": [
    "#train model\n",
    "history = model.fit(X_train, y_train, epochs=10, batch_size=64, validation_data=(X_test, y_test))"
   ]
  },
  {
   "cell_type": "code",
   "execution_count": 20,
   "id": "096a3330-d094-421c-b7e8-8362bb7efc48",
   "metadata": {},
   "outputs": [
    {
     "name": "stdout",
     "output_type": "stream",
     "text": [
      "313/313 [==============================] - 1s 2ms/step - loss: 0.3169 - accuracy: 0.8773\n",
      "Test Accuracy: 87.73%\n"
     ]
    }
   ],
   "source": [
    "# Evaluate the model\n",
    "test_loss, test_accuracy = model.evaluate(X_test, y_test)\n",
    "print(f\"Test Accuracy: {test_accuracy * 100:.2f}%\")"
   ]
  },
  {
   "cell_type": "code",
   "execution_count": 22,
   "id": "c6c8261c-a8fc-4682-9149-d335bdde4654",
   "metadata": {},
   "outputs": [
    {
     "name": "stdout",
     "output_type": "stream",
     "text": [
      "Pridicted Sentiment: Negative                    Actual Sentiments Positive\n",
      "Pridicted Sentiment: Positive                    Actual Sentiments Positive\n",
      "Pridicted Sentiment: Negative                    Actual Sentiments Negative\n",
      "Pridicted Sentiment: Positive                    Actual Sentiments Positive\n",
      "Pridicted Sentiment: Negative                    Actual Sentiments Negative\n"
     ]
    }
   ],
   "source": [
    "prediction =model.predict(X_test)\n",
    "for i in range(5):\n",
    "    predicted_sentiment=\"Positive\" if prediction[i][0]>0.5 else 'Negative'\n",
    "    actual_sentiment=\"Positive\" if y_test[i]==1 else 'Negative'\n",
    "    print(\"Pridicted Sentiment:\",predicted_sentiment,\"                   Actual Sentiments\",actual_sentiment)"
   ]
  },
  {
   "cell_type": "code",
   "execution_count": null,
   "id": "cdce3ac9-5ce1-415c-be1c-a7380b8d6cd4",
   "metadata": {},
   "outputs": [],
   "source": []
  }
 ],
 "metadata": {
  "kernelspec": {
   "display_name": "Python 3 (ipykernel)",
   "language": "python",
   "name": "python3"
  },
  "language_info": {
   "codemirror_mode": {
    "name": "ipython",
    "version": 3
   },
   "file_extension": ".py",
   "mimetype": "text/x-python",
   "name": "python",
   "nbconvert_exporter": "python",
   "pygments_lexer": "ipython3",
   "version": "3.8.19"
  }
 },
 "nbformat": 4,
 "nbformat_minor": 5
}
